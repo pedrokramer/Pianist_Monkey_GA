{
 "cells": [
  {
   "cell_type": "markdown",
   "metadata": {},
   "source": [
    "# Trabalho Algorítmos Genéticos"
   ]
  },
  {
   "cell_type": "markdown",
   "metadata": {},
   "source": [
    "## Importações"
   ]
  },
  {
   "cell_type": "code",
   "execution_count": 1,
   "metadata": {},
   "outputs": [],
   "source": [
    "from funcoes_musicais import mutacao_ritmica, func_obj, populacao_music, cruzamento_semi_heuristico, selecao_grammy, mostrar_musica"
   ]
  },
  {
   "cell_type": "markdown",
   "metadata": {},
   "source": [
    "## Criando as variáveis:"
   ]
  },
  {
   "cell_type": "code",
   "execution_count": 2,
   "metadata": {},
   "outputs": [],
   "source": [
    "NUM_NOTAS = 100\n",
    "TAMANHO_POPULACAO = 1000\n",
    "NUM_GERACOES = 100\n",
    "TAMANHO_SEGMENTOS = 10\n",
    "CHANCE_DE_CRUZAMENTO = 0.5\n",
    "CHANCE_DE_MUTACAO = 0.01"
   ]
  },
  {
   "cell_type": "code",
   "execution_count": 3,
   "metadata": {},
   "outputs": [],
   "source": [
    "populacao = populacao_music(TAMANHO_POPULACAO, NUM_NOTAS)"
   ]
  },
  {
   "cell_type": "markdown",
   "metadata": {},
   "source": [
    "## Funções Gerais em Sequencias:"
   ]
  },
  {
   "cell_type": "code",
   "execution_count": 4,
   "metadata": {},
   "outputs": [
    {
     "name": "stdout",
     "output_type": "stream",
     "text": [
      "########################################################\n",
      "#           GERAÇÃO 9. MELHOR FITNESS 0.295.         #\n",
      "#                                                      #\n",
      "########################################################\n",
      "#           GERAÇÃO 19. MELHOR FITNESS 0.3093.         #\n",
      "#                                                      #\n",
      "########################################################\n",
      "#           GERAÇÃO 29. MELHOR FITNESS 0.3131.         #\n",
      "#                                                      #\n",
      "########################################################\n",
      "#           GERAÇÃO 39. MELHOR FITNESS 0.3136.         #\n",
      "#                                                      #\n",
      "########################################################\n",
      "#           GERAÇÃO 49. MELHOR FITNESS 0.3136.         #\n",
      "#                                                      #\n",
      "########################################################\n",
      "#           GERAÇÃO 59. MELHOR FITNESS 0.3141.         #\n",
      "#                                                      #\n",
      "########################################################\n",
      "#           GERAÇÃO 69. MELHOR FITNESS 0.3141.         #\n",
      "#                                                      #\n",
      "########################################################\n",
      "#           GERAÇÃO 79. MELHOR FITNESS 0.3141.         #\n",
      "#                                                      #\n",
      "########################################################\n",
      "#           GERAÇÃO 89. MELHOR FITNESS 0.3141.         #\n",
      "#                                                      #\n",
      "########################################################\n",
      "#           GERAÇÃO 99. MELHOR FITNESS 0.3141.         #\n",
      "#                                                      #\n"
     ]
    }
   ],
   "source": [
    "hall_da_fama = []\n",
    "\n",
    "for n in range(NUM_GERACOES):\n",
    "\n",
    "    # Seleção: Checamos  os indivíduos da população e selecionamos qual deles possúi a melhor função objetivo.\n",
    "    selecionados = selecao_grammy(populacao)\n",
    "\n",
    "    # Cruzamento:\n",
    "    \n",
    "    proxima_geracao = []\n",
    "    for pai, mae in zip(selecionados[::2], selecionados[1::2]):\n",
    "        individuo1, individuo2 = cruzamento_semi_heuristico(pai, mae, TAMANHO_SEGMENTOS, CHANCE_DE_CRUZAMENTO)\n",
    "        proxima_geracao.append(individuo1)\n",
    "        proxima_geracao.append(individuo2)\n",
    "\n",
    "    # Mutação: \n",
    "    \n",
    "    proxima_geracao = mutacao_ritmica(proxima_geracao, CHANCE_DE_MUTACAO)\n",
    "\n",
    "\n",
    "    # Atualização do Hall da Fama\n",
    "    fitness = []\n",
    "    for individuo in proxima_geracao:\n",
    "        fitvalue = func_obj(individuo)\n",
    "        fitness.append(fitvalue)\n",
    "    maior_fitness = max(fitness)\n",
    "    indice = fitness.index(maior_fitness)\n",
    "    hall_da_fama.append(proxima_geracao[indice])\n",
    "\n",
    "    # Encerramento\n",
    "    populacao = proxima_geracao\n",
    "    \n",
    "    if (n + 1) % 10 == 0:\n",
    "   \n",
    "        print('########################################################')\n",
    "        print(f'#           GERAÇÃO {n}. MELHOR FITNESS {round(maior_fitness, 4)}.         #')\n",
    "        print('#                                                      #')\n"
   ]
  },
  {
   "cell_type": "code",
   "execution_count": 5,
   "metadata": {},
   "outputs": [
    {
     "data": {
      "text/html": [
       "\n",
       "        <div id=\"midiPlayerDiv278\"></div>\n",
       "        <link rel=\"stylesheet\" href=\"https://cuthbertLab.github.io/music21j/css/m21.css\">\n",
       "        \n",
       "        <script\n",
       "        src=\"https://cdnjs.cloudflare.com/ajax/libs/require.js/2.3.6/require.min.js\"\n",
       "        ></script>\n",
       "    \n",
       "        <script>\n",
       "        function midiPlayerDiv278_play() {\n",
       "            const rq = require.config({\n",
       "                paths: {\n",
       "                    'music21': 'https://cuthbertLab.github.io/music21j/releases/music21.debug',\n",
       "                }\n",
       "            });\n",
       "            rq(['music21'], function(music21) {\n",
       "                mp = new music21.miditools.MidiPlayer();\n",
       "                mp.addPlayer(\"#midiPlayerDiv278\");\n",
       "                mp.base64Load(\"data:audio/midi;base64,TVRoZAAAAAYAAQACJ2BNVHJrAAAAFAD/UQMHoSAA/1gEBAIYCM5g/y8ATVRyawAAAfQA/wMAAOAAQM5gkD9apzCAPwAAkEJapzCAQgAAkEFapzCAQQAAkD5apzCAPgAAkDxapzCAPAAAkD9apzCAPwAAkD5apzCAPgAAkDxapzCAPAAAkD5apzCAPgAAkD9apzCAPwAAkEJapzCAQgAAkDxapzCAPAAAkEFapzCAQQAAkEJapzCAQgAAkEFapzCAQQAAkD5apzCAPgAAkD1apzCAPQAAkD1apzCAPQAAkD9apzCAPwAAkEJapzCAQgAAkEFapzCAQQAAkD5apzCAPgAAkDxapzCAPAAAkD9apzCAPwAAkEJapzCAQgAAkD5apzCAPgAAkEJapzCAQgAAkD1apzCAPQAAkEJapzCAQgAAkDxapzCAPAAAkEFapzCAQQAAkD1apzCAPQAAkD9apzCAPwAAkD9apzCAPwAAkEFapzCAQQAAkDxapzCAPAAAkD5apzCAPgAAkEJapzCAQgAAkD1apzCAPQAAkEJapzCAQgAAkD1apzCAPQAAkD1apzCAPQAAkEFapzCAQQAAkD1apzCAPQAAkD1apzCAPQAAkEFapzCAQQAAkD5apzCAPgAAkDxapzCAPAAAkDxapzCAPAAAkD9apzCAPwAAkD5apzCAPgAAkDxapzCAPAAAkDxapzCAPAAAkD9apzCAPwDOYP8vAA==\");\n",
       "            });\n",
       "        }\n",
       "        if (typeof require === 'undefined') {\n",
       "            setTimeout(midiPlayerDiv278_play, 2000);\n",
       "        } else {\n",
       "            midiPlayerDiv278_play();\n",
       "        }\n",
       "        </script>"
      ],
      "text/plain": [
       "<IPython.core.display.HTML object>"
      ]
     },
     "metadata": {},
     "output_type": "display_data"
    }
   ],
   "source": [
    "mostrar_musica(hall_da_fama[99])"
   ]
  },
  {
   "cell_type": "markdown",
   "metadata": {},
   "source": [
    "## Candidato Aleatório!\n",
    "\n",
    "+ Para observar a diferença do ordenado pelo algoritmo e um aleatório"
   ]
  },
  {
   "cell_type": "code",
   "execution_count": 6,
   "metadata": {},
   "outputs": [],
   "source": [
    "from funcoes_musicais import candidato_music"
   ]
  },
  {
   "cell_type": "code",
   "execution_count": 7,
   "metadata": {},
   "outputs": [
    {
     "data": {
      "text/html": [
       "\n",
       "        <div id=\"midiPlayerDiv602\"></div>\n",
       "        <link rel=\"stylesheet\" href=\"https://cuthbertLab.github.io/music21j/css/m21.css\">\n",
       "        \n",
       "        <script\n",
       "        src=\"https://cdnjs.cloudflare.com/ajax/libs/require.js/2.3.6/require.min.js\"\n",
       "        ></script>\n",
       "    \n",
       "        <script>\n",
       "        function midiPlayerDiv602_play() {\n",
       "            const rq = require.config({\n",
       "                paths: {\n",
       "                    'music21': 'https://cuthbertLab.github.io/music21j/releases/music21.debug',\n",
       "                }\n",
       "            });\n",
       "            rq(['music21'], function(music21) {\n",
       "                mp = new music21.miditools.MidiPlayer();\n",
       "                mp.addPlayer(\"#midiPlayerDiv602\");\n",
       "                mp.base64Load(\"data:audio/midi;base64,TVRoZAAAAAYAAQACJ2BNVHJrAAAAFAD/UQMHoSAA/1gEBAIYCM5g/y8ATVRyawAAAfwA/wMAAOAAQM5gkEJapzCAQgAAkD1apzCAPQAAkD5apzCAPgAAkEFapzCAQQAAkD1apzCAPQDOYJA/WqcwgD8AAJA+WqcwgD4AAJBCWqcwgEIAAJA9WqcwgD0AAJA9WqcwgD0AAJBBWqcwgEEAAJBAWqcwgEAAAJA+WqcwgD4AAJA/WqcwgD8AAJBCWqcwgEIApzCQPlqnMIA+AKcwkEJapzCAQgAAkEFapzCAQQAAkDxapzCAPACnMJBAWqcwgEAAAJA/WqcwgD8AAJA8WqcwgDwApzCQPFqnMIA8AACQP1qnMIA/AKcwkD9apzCAPwAAkEBapzCAQAAAkD1apzCAPQAAkD5apzCAPgAAkDxapzCAPAAAkD9apzCAPwAAkDxapzCAPAAAkDxapzCAPAAAkD9apzCAPwAAkEJapzCAQgAAkEJapzCAQgAAkDxapzCAPACnMJA/WqcwgD8AAJA8WqcwgDwAAJBBWqcwgEEAAJBCWqcwgEIAAJA9WqcwgD0AAJBCWqcwgEIAAJA/WqcwgD8AAJA/WqcwgD8AAJA/WqcwgD8AAJBBWqcwgEEAAJA8WqcwgDwAAJA+WqcwgD4AAJA8WqcwgDwApzCQQlqnMIBCAACQPVqnMIA9AACQPVqnMIA9AACQP1qnMIA/AACQQVqnMIBBAM5g/y8A\");\n",
       "            });\n",
       "        }\n",
       "        if (typeof require === 'undefined') {\n",
       "            setTimeout(midiPlayerDiv602_play, 2000);\n",
       "        } else {\n",
       "            midiPlayerDiv602_play();\n",
       "        }\n",
       "        </script>"
      ],
      "text/plain": [
       "<IPython.core.display.HTML object>"
      ]
     },
     "metadata": {},
     "output_type": "display_data"
    }
   ],
   "source": [
    "music_random = candidato_music(100)\n",
    "mostrar_musica(music_random)"
   ]
  }
 ],
 "metadata": {
  "kernelspec": {
   "display_name": "ilumpy",
   "language": "python",
   "name": "ilumpy"
  },
  "language_info": {
   "codemirror_mode": {
    "name": "ipython",
    "version": 3
   },
   "file_extension": ".py",
   "mimetype": "text/x-python",
   "name": "python",
   "nbconvert_exporter": "python",
   "pygments_lexer": "ipython3",
   "version": "3.10.8"
  }
 },
 "nbformat": 4,
 "nbformat_minor": 4
}
